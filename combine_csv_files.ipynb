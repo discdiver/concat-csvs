{
 "cells": [
  {
   "cell_type": "markdown",
   "metadata": {},
   "source": [
    "## Script to concatenate all .csv files in a folder into one .csv files\n",
    "Jeff used for RD orders"
   ]
  },
  {
   "cell_type": "code",
   "execution_count": 2,
   "metadata": {},
   "outputs": [],
   "source": [
    "import os\n",
    "import csv"
   ]
  },
  {
   "cell_type": "code",
   "execution_count": 18,
   "metadata": {},
   "outputs": [],
   "source": [
    "path = \" \" # insert path"
   ]
  },
  {
   "cell_type": "code",
   "execution_count": null,
   "metadata": {},
   "outputs": [],
   "source": [
    "directories = [dirs for dirs in os.listdir(path) if os.path.isdir(os.path.join(path, dirs))]\n",
    "print(len(directories))\n",
    "for dirs in directories:\n",
    "    print(dirs)\n",
    "\n",
    "# ouptut file\n",
    "new_file = 'combined_file.csv'\n",
    "\n",
    "# now add all folders in a file directory\n",
    "for dirs in directories:\n",
    "    dir_path = os.path.join(path + \"/\" + dirs)\n",
    "    for filename in os.listdir(dir_path):\n",
    "        if filename.endswith('.csv'):\n",
    "            with open(os.path.join(dir_path+\"/\"+filename)) as csvfile:\n",
    "                file_reader = csv.reader(csvfile, delimiter=',')\n",
    "                for row in file_reader:\n",
    "                    with open(os.path.join('./'+new_file), 'a') as newfile:\n",
    "                        file_writer = csv.writer(newfile)\n",
    "                        file_writer.writerow(row)"
   ]
  }
 ],
 "metadata": {
  "kernelspec": {
   "display_name": "Python 3",
   "language": "python",
   "name": "python3"
  },
  "language_info": {
   "codemirror_mode": {
    "name": "ipython",
    "version": 3
   },
   "file_extension": ".py",
   "mimetype": "text/x-python",
   "name": "python",
   "nbconvert_exporter": "python",
   "pygments_lexer": "ipython3",
   "version": "3.6.6"
  }
 },
 "nbformat": 4,
 "nbformat_minor": 2
}
